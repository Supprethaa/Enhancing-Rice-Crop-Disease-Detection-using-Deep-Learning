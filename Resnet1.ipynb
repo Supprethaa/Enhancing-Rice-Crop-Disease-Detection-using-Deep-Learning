{
  "nbformat": 4,
  "nbformat_minor": 0,
  "metadata": {
    "colab": {
      "provenance": []
    },
    "kernelspec": {
      "name": "python3",
      "display_name": "Python 3"
    },
    "language_info": {
      "name": "python"
    }
  },
  "cells": [
    {
      "cell_type": "markdown",
      "source": [
        "# Resnet 50"
      ],
      "metadata": {
        "id": "buAjh1ZEqPAx"
      }
    },
    {
      "cell_type": "code",
      "execution_count": null,
      "metadata": {
        "colab": {
          "base_uri": "https://localhost:8080/"
        },
        "id": "32yNVnp5qGSv",
        "outputId": "297db56f-aa0f-4fbd-dea4-03475c857a1e"
      },
      "outputs": [
        {
          "output_type": "stream",
          "name": "stdout",
          "text": [
            "Found 1717 images belonging to 4 classes.\n",
            "Found 525 images belonging to 4 classes.\n",
            "Downloading data from https://storage.googleapis.com/tensorflow/keras-applications/resnet/resnet50_weights_tf_dim_ordering_tf_kernels_notop.h5\n",
            "94765736/94765736 [==============================] - 0s 0us/step\n",
            "Epoch 1/20\n",
            "54/54 [==============================] - 481s 9s/step - loss: 1.4019 - accuracy: 0.3436\n",
            "Epoch 2/20\n",
            "54/54 [==============================] - 211s 4s/step - loss: 1.3191 - accuracy: 0.3553\n",
            "Epoch 3/20\n",
            "54/54 [==============================] - 211s 4s/step - loss: 1.3247 - accuracy: 0.3564\n",
            "Epoch 4/20\n",
            "54/54 [==============================] - 212s 4s/step - loss: 1.2916 - accuracy: 0.3593\n",
            "Epoch 5/20\n",
            "54/54 [==============================] - 212s 4s/step - loss: 1.2970 - accuracy: 0.3768\n",
            "Epoch 6/20\n",
            "54/54 [==============================] - 212s 4s/step - loss: 1.2667 - accuracy: 0.3937\n",
            "Epoch 7/20\n",
            "54/54 [==============================] - 210s 4s/step - loss: 1.2896 - accuracy: 0.3867\n",
            "Epoch 8/20\n",
            "54/54 [==============================] - 209s 4s/step - loss: 1.2817 - accuracy: 0.3885\n",
            "Epoch 9/20\n",
            "54/54 [==============================] - 209s 4s/step - loss: 1.2759 - accuracy: 0.3838\n",
            "Epoch 10/20\n",
            "54/54 [==============================] - 209s 4s/step - loss: 1.2664 - accuracy: 0.3937\n",
            "Epoch 11/20\n",
            "54/54 [==============================] - 210s 4s/step - loss: 1.2642 - accuracy: 0.3995\n",
            "Epoch 12/20\n",
            "54/54 [==============================] - 210s 4s/step - loss: 1.2837 - accuracy: 0.3791\n",
            "Epoch 13/20\n",
            "54/54 [==============================] - 210s 4s/step - loss: 1.2718 - accuracy: 0.3896\n",
            "Epoch 14/20\n",
            "54/54 [==============================] - 211s 4s/step - loss: 1.2617 - accuracy: 0.4019\n",
            "Epoch 15/20\n",
            "54/54 [==============================] - 210s 4s/step - loss: 1.2656 - accuracy: 0.4048\n",
            "Epoch 16/20\n",
            "54/54 [==============================] - 210s 4s/step - loss: 1.2563 - accuracy: 0.4030\n",
            "Epoch 17/20\n",
            "54/54 [==============================] - 211s 4s/step - loss: 1.2534 - accuracy: 0.4048\n",
            "Epoch 18/20\n",
            "54/54 [==============================] - 207s 4s/step - loss: 1.2542 - accuracy: 0.3995\n",
            "Epoch 19/20\n",
            "54/54 [==============================] - 208s 4s/step - loss: 1.2552 - accuracy: 0.3815\n",
            "Epoch 20/20\n",
            "54/54 [==============================] - 208s 4s/step - loss: 1.2462 - accuracy: 0.4059\n",
            "17/17 [==============================] - 146s 9s/step - loss: 1.3490 - accuracy: 0.4057\n",
            "Test Accuracy: 0.4057142734527588\n"
          ]
        }
      ],
      "source": [
        "import tensorflow as tf\n",
        "from tensorflow.keras.applications import ResNet50\n",
        "from tensorflow.keras.layers import Dense, GlobalAveragePooling2D\n",
        "from tensorflow.keras.models import Model\n",
        "from tensorflow.keras.preprocessing.image import ImageDataGenerator\n",
        "\n",
        "# Parameters\n",
        "image_size = 224\n",
        "batch_size = 32\n",
        "train_dir = '/content/drive/MyDrive/Copy of New_Training_resized'  # Replace with your training data directory\n",
        "test_dir = '/content/drive/MyDrive/New_Validation_resized'    # Replace with your test data directory\n",
        "\n",
        "# ImageDataGenerator for data augmentation and normalization\n",
        "train_datagen = ImageDataGenerator(\n",
        "    rescale=1./255,\n",
        "    rotation_range=30,\n",
        "    width_shift_range=0.2,\n",
        "    height_shift_range=0.2,\n",
        "    shear_range=0.2,\n",
        "    zoom_range=0.2,\n",
        "    horizontal_flip=True,\n",
        "    fill_mode='nearest'\n",
        ")\n",
        "\n",
        "test_datagen = ImageDataGenerator(rescale=1./255)\n",
        "\n",
        "# Loading and augmenting the training data\n",
        "train_data = train_datagen.flow_from_directory(\n",
        "    train_dir,\n",
        "    target_size=(image_size, image_size),\n",
        "    batch_size=batch_size,\n",
        "    class_mode='categorical'\n",
        ")\n",
        "\n",
        "# Loading the test data\n",
        "test_data = test_datagen.flow_from_directory(\n",
        "    test_dir,\n",
        "    target_size=(image_size, image_size),\n",
        "    batch_size=batch_size,\n",
        "    class_mode='categorical'\n",
        ")\n",
        "\n",
        "# Load the ResNet50 model without the top classification layer\n",
        "base_model = ResNet50(weights='imagenet', include_top=False, input_shape=(image_size, image_size, 3))\n",
        "\n",
        "# Add custom top layers for plant disease classification\n",
        "x = base_model.output\n",
        "x = GlobalAveragePooling2D()(x)\n",
        "x = Dense(1024, activation='relu')(x)\n",
        "predictions = Dense(train_data.num_classes, activation='softmax')(x)  # Output layer based on number of classes\n",
        "\n",
        "# Create the final model\n",
        "model = Model(inputs=base_model.input, outputs=predictions)\n",
        "\n",
        "# Optionally freeze the early layers and fine-tune the later layers\n",
        "for layer in model.layers[:-4]:\n",
        "    layer.trainable = False\n",
        "\n",
        "# Compile the model\n",
        "model.compile(optimizer='adam', loss='categorical_crossentropy', metrics=['accuracy'])\n",
        "\n",
        "# Train the model for more epochs\n",
        "model.fit(train_data, epochs=20)\n",
        "\n",
        "# Evaluate the model on the test data\n",
        "test_loss, test_accuracy = model.evaluate(test_data)\n",
        "print(\"Test Accuracy:\", test_accuracy)\n"
      ]
    }
  ]
}