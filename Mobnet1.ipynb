{
  "nbformat": 4,
  "nbformat_minor": 0,
  "metadata": {
    "colab": {
      "provenance": []
    },
    "kernelspec": {
      "name": "python3",
      "display_name": "Python 3"
    },
    "language_info": {
      "name": "python"
    }
  },
  "cells": [
    {
      "cell_type": "markdown",
      "source": [
        "# MobileNet"
      ],
      "metadata": {
        "id": "S0HWoqPPpr4_"
      }
    },
    {
      "cell_type": "code",
      "execution_count": null,
      "metadata": {
        "id": "UubeS9BhQrg-"
      },
      "outputs": [],
      "source": [
        "# Import OS module\n",
        "import os\n",
        "\n",
        "# Imports\n",
        "import numpy as np\n",
        "import pandas as pd\n",
        "\n",
        "# Visualization\n",
        "import matplotlib.pyplot as plt\n",
        "\n",
        "# Tensorflow\n",
        "import tensorflow as tf\n",
        "from tensorflow import keras\n",
        "from tensorflow.keras import callbacks, layers, Model\n",
        "from tensorflow.keras.preprocessing.image import ImageDataGenerator\n",
        "\n",
        "# Notebook magic\n",
        "%matplotlib inline"
      ]
    },
    {
      "cell_type": "code",
      "source": [
        "!nvidia-smi"
      ],
      "metadata": {
        "colab": {
          "base_uri": "https://localhost:8080/"
        },
        "id": "QJhye9qASLSX",
        "outputId": "6a6463aa-690d-46b3-e30f-5669a396c071"
      },
      "execution_count": null,
      "outputs": [
        {
          "output_type": "stream",
          "name": "stdout",
          "text": [
            "/bin/bash: line 1: nvidia-smi: command not found\n"
          ]
        }
      ]
    },
    {
      "cell_type": "code",
      "source": [
        "image_size = 224\n",
        "target_size = (image_size, image_size)\n",
        "input_shape = (image_size, image_size, 3)\n",
        "grid_shape = (1, image_size, image_size, 3)\n",
        "\n",
        "batch_size = 32"
      ],
      "metadata": {
        "id": "OxMvop00SSol"
      },
      "execution_count": null,
      "outputs": []
    },
    {
      "cell_type": "code",
      "source": [
        "train_dir = '/content/drive/MyDrive/Copy of New_Training_resized'\n",
        "\n",
        "\n",
        "#Define augmentations for train dataset and read the images\n",
        "train_aug = ImageDataGenerator(\n",
        "    # Rescale\n",
        "    rescale=1/255.0,\n",
        "    # Filling for W/H shift\n",
        "    fill_mode=\"nearest\",\n",
        "    # Width and Height shift\n",
        "    width_shift_range=0.2,\n",
        "    height_shift_range=0.2,\n",
        "    # Random zooms\n",
        "    zoom_range=0.2,\n",
        "    # Random Shearing aug\n",
        "    shear_range=0.2,\n",
        ")\n",
        "\n",
        "# Read data from directory\n",
        "train_data = train_aug.flow_from_directory(\n",
        "    train_dir,\n",
        "    target_size=(image_size, image_size),\n",
        "    batch_size=batch_size,\n",
        "    class_mode=\"categorical\"\n",
        ")"
      ],
      "metadata": {
        "colab": {
          "base_uri": "https://localhost:8080/"
        },
        "id": "TUXqSSd5SXKL",
        "outputId": "fa1c2849-eaac-4841-e5b8-2e3e201eaaa0"
      },
      "execution_count": null,
      "outputs": [
        {
          "output_type": "stream",
          "name": "stdout",
          "text": [
            "Found 2163 images belonging to 4 classes.\n"
          ]
        }
      ]
    },
    {
      "cell_type": "code",
      "source": [
        "# Get the list of categories in training data\n",
        "cats = list(train_data.class_indices.keys())"
      ],
      "metadata": {
        "id": "qxTbYgHySiHI"
      },
      "execution_count": null,
      "outputs": []
    },
    {
      "cell_type": "code",
      "source": [
        "test_dir = '/content/drive/MyDrive/New_Validation_resized'\n",
        "# Augmentations for test data\n",
        "test_aug = ImageDataGenerator(\n",
        "    # Rescale\n",
        "    rescale=1/255.0\n",
        ")\n",
        "\n",
        "# Read data from directory\n",
        "test_data = test_aug.flow_from_directory(\n",
        "    test_dir,\n",
        "    target_size=(image_size, image_size),\n",
        "    batch_size=batch_size,\n",
        "    class_mode=\"categorical\"\n",
        ")"
      ],
      "metadata": {
        "colab": {
          "base_uri": "https://localhost:8080/"
        },
        "id": "GpRhn-6oS9wh",
        "outputId": "ecc6f3ae-60f5-4e9c-9c65-e6073783f454"
      },
      "execution_count": null,
      "outputs": [
        {
          "output_type": "stream",
          "name": "stdout",
          "text": [
            "Found 575 images belonging to 4 classes.\n"
          ]
        }
      ]
    },
    {
      "cell_type": "code",
      "source": [
        "# Load the base model\n",
        "mbnet_v2 = keras.applications.MobileNetV2(\n",
        "    weights=\"imagenet\",\n",
        "    include_top=False,\n",
        "    input_shape=input_shape\n",
        ")\n",
        "\n",
        "# Stop from being trainable\n",
        "mbnet_v2.trainable = False"
      ],
      "metadata": {
        "colab": {
          "base_uri": "https://localhost:8080/"
        },
        "id": "eURRMPmtTLJ4",
        "outputId": "b3507969-87f3-4f56-8542-20c6c0c08d90"
      },
      "execution_count": null,
      "outputs": [
        {
          "output_type": "stream",
          "name": "stdout",
          "text": [
            "Downloading data from https://storage.googleapis.com/tensorflow/keras-applications/mobilenet_v2/mobilenet_v2_weights_tf_dim_ordering_tf_kernels_1.0_224_no_top.h5\n",
            "9406464/9406464 [==============================] - 1s 0us/step\n"
          ]
        }
      ]
    },
    {
      "cell_type": "code",
      "source": [
        "# Define the layers\n",
        "inputs = keras.Input(shape=input_shape)\n",
        "\n",
        "# Get the layer\n",
        "x = mbnet_v2(inputs, training = False)\n",
        "\n",
        "# Stack layers further\n",
        "x = tf.keras.layers.GlobalAveragePooling2D()(x)\n",
        "x = tf.keras.layers.Dropout(0.2)(x)\n",
        "x = tf.keras.layers.Dense(len(cats), activation=\"softmax\")(x)\n",
        "\n",
        "# Combine the model\n",
        "model = Model(inputs=inputs, outputs=x)\n",
        "\n",
        "# Summary\n",
        "model.summary()"
      ],
      "metadata": {
        "colab": {
          "base_uri": "https://localhost:8080/"
        },
        "id": "bgluLthmTPwz",
        "outputId": "9c30f5a5-fad7-4c7f-f9fc-68714ae56fb7"
      },
      "execution_count": null,
      "outputs": [
        {
          "output_type": "stream",
          "name": "stdout",
          "text": [
            "Model: \"model\"\n",
            "_________________________________________________________________\n",
            " Layer (type)                Output Shape              Param #   \n",
            "=================================================================\n",
            " input_2 (InputLayer)        [(None, 224, 224, 3)]     0         \n",
            "                                                                 \n",
            " mobilenetv2_1.00_224 (Func  (None, 7, 7, 1280)        2257984   \n",
            " tional)                                                         \n",
            "                                                                 \n",
            " global_average_pooling2d (  (None, 1280)              0         \n",
            " GlobalAveragePooling2D)                                         \n",
            "                                                                 \n",
            " dropout (Dropout)           (None, 1280)              0         \n",
            "                                                                 \n",
            " dense (Dense)               (None, 4)                 5124      \n",
            "                                                                 \n",
            "=================================================================\n",
            "Total params: 2263108 (8.63 MB)\n",
            "Trainable params: 5124 (20.02 KB)\n",
            "Non-trainable params: 2257984 (8.61 MB)\n",
            "_________________________________________________________________\n"
          ]
        }
      ]
    },
    {
      "cell_type": "code",
      "source": [
        "# Compile\n",
        "model.compile(optimizer=\"adam\", loss=\"categorical_crossentropy\", metrics=[\"accuracy\"])\n",
        "\n",
        "# Define callbacks to use\n",
        "early_stopping_cb = callbacks.EarlyStopping(monitor=\"loss\", patience=3)"
      ],
      "metadata": {
        "id": "ZlEY5xkqTULH"
      },
      "execution_count": null,
      "outputs": []
    },
    {
      "cell_type": "code",
      "source": [
        "# Num epochs\n",
        "epochs = 30\n",
        "\n",
        "# Train model\n",
        "history = model.fit(\n",
        "    train_data,\n",
        "    epochs=epochs,\n",
        "    steps_per_epoch=65,\n",
        "    callbacks=[early_stopping_cb]\n",
        ")"
      ],
      "metadata": {
        "colab": {
          "base_uri": "https://localhost:8080/"
        },
        "id": "VbFbRSvcTXe1",
        "outputId": "e694b897-ebc8-4722-af68-814df01b7fa6"
      },
      "execution_count": null,
      "outputs": [
        {
          "output_type": "stream",
          "name": "stdout",
          "text": [
            "Epoch 1/30\n",
            "65/65 [==============================] - 1328s 20s/step - loss: 1.1758 - accuracy: 0.5046\n",
            "Epoch 2/30\n",
            "65/65 [==============================] - 118s 2s/step - loss: 1.0025 - accuracy: 0.5947\n",
            "Epoch 3/30\n",
            "65/65 [==============================] - 102s 2s/step - loss: 0.9260 - accuracy: 0.6425\n",
            "Epoch 4/30\n",
            "65/65 [==============================] - 102s 2s/step - loss: 0.8985 - accuracy: 0.6459\n",
            "Epoch 5/30\n",
            "65/65 [==============================] - 103s 2s/step - loss: 0.8715 - accuracy: 0.6613\n",
            "Epoch 6/30\n",
            "65/65 [==============================] - 105s 2s/step - loss: 0.8422 - accuracy: 0.6837\n",
            "Epoch 7/30\n",
            "65/65 [==============================] - 103s 2s/step - loss: 0.8491 - accuracy: 0.6613\n",
            "Epoch 8/30\n",
            "65/65 [==============================] - 103s 2s/step - loss: 0.8460 - accuracy: 0.6672\n",
            "Epoch 9/30\n",
            "65/65 [==============================] - 102s 2s/step - loss: 0.8186 - accuracy: 0.6788\n",
            "Epoch 10/30\n",
            "65/65 [==============================] - 103s 2s/step - loss: 0.8221 - accuracy: 0.6744\n",
            "Epoch 11/30\n",
            "65/65 [==============================] - 104s 2s/step - loss: 0.7936 - accuracy: 0.6942\n",
            "Epoch 12/30\n",
            "65/65 [==============================] - 103s 2s/step - loss: 0.7940 - accuracy: 0.6938\n",
            "Epoch 13/30\n",
            "65/65 [==============================] - 103s 2s/step - loss: 0.7847 - accuracy: 0.6947\n",
            "Epoch 14/30\n",
            "65/65 [==============================] - 103s 2s/step - loss: 0.7646 - accuracy: 0.6942\n",
            "Epoch 15/30\n",
            "65/65 [==============================] - 104s 2s/step - loss: 0.7743 - accuracy: 0.6957\n",
            "Epoch 16/30\n",
            "65/65 [==============================] - 103s 2s/step - loss: 0.7568 - accuracy: 0.6976\n",
            "Epoch 17/30\n",
            "65/65 [==============================] - 102s 2s/step - loss: 0.7495 - accuracy: 0.7092\n",
            "Epoch 18/30\n",
            "65/65 [==============================] - 105s 2s/step - loss: 0.7723 - accuracy: 0.6933\n",
            "Epoch 19/30\n",
            "65/65 [==============================] - 104s 2s/step - loss: 0.7572 - accuracy: 0.7038\n",
            "Epoch 20/30\n",
            "65/65 [==============================] - 103s 2s/step - loss: 0.7334 - accuracy: 0.7107\n",
            "Epoch 21/30\n",
            "65/65 [==============================] - 100s 2s/step - loss: 0.7531 - accuracy: 0.7083\n",
            "Epoch 22/30\n",
            "65/65 [==============================] - 97s 1s/step - loss: 0.7380 - accuracy: 0.7088\n",
            "Epoch 23/30\n",
            "65/65 [==============================] - 98s 2s/step - loss: 0.7406 - accuracy: 0.7126\n"
          ]
        }
      ]
    },
    {
      "cell_type": "code",
      "source": [
        "model.evaluate(test_data)"
      ],
      "metadata": {
        "colab": {
          "base_uri": "https://localhost:8080/"
        },
        "id": "joCbMJN_Tcq2",
        "outputId": "e0f8576e-463f-46d9-cb61-f9e9adea6fa9"
      },
      "execution_count": null,
      "outputs": [
        {
          "output_type": "stream",
          "name": "stdout",
          "text": [
            "18/18 [==============================] - 335s 20s/step - loss: 1.5538 - accuracy: 0.4365\n"
          ]
        },
        {
          "output_type": "execute_result",
          "data": {
            "text/plain": [
              "[1.5538313388824463, 0.4365217387676239]"
            ]
          },
          "metadata": {},
          "execution_count": 13
        }
      ]
    }
  ]
}